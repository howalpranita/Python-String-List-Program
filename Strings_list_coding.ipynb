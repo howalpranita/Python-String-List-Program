{
  "nbformat": 4,
  "nbformat_minor": 0,
  "metadata": {
    "colab": {
      "provenance": []
    },
    "kernelspec": {
      "name": "python3",
      "display_name": "Python 3"
    },
    "language_info": {
      "name": "python"
    }
  },
  "cells": [
    {
      "cell_type": "markdown",
      "source": [
        "**Loop Control Statement**\n",
        "\n",
        "\n",
        "\n",
        "\n",
        "\n",
        "\n",
        "\n",
        "\n"
      ],
      "metadata": {
        "id": "B07VzLIDObGI"
      }
    },
    {
      "cell_type": "code",
      "source": [
        "# Break example Find the prime number in given range provided by user only\n",
        "lower = int(input('Enter lower range'))\n",
        "upper = int(input('Enter upper range'))\n",
        "\n",
        "for i in range (lower,upper+1):\n",
        "  for j in range(2,i):\n",
        "    if i%j==0:\n",
        "      break\n",
        "  else:\n",
        "      print(i)"
      ],
      "metadata": {
        "colab": {
          "base_uri": "https://localhost:8080/"
        },
        "id": "NEl1sZI_OZ2X",
        "outputId": "059b5f73-fbaf-4d30-e140-ff82b3ae2b23"
      },
      "execution_count": 3,
      "outputs": [
        {
          "output_type": "stream",
          "name": "stdout",
          "text": [
            "Enter lower range10\n",
            "Enter upper range50\n",
            "11\n",
            "13\n",
            "17\n",
            "19\n",
            "23\n",
            "29\n",
            "31\n",
            "37\n",
            "41\n",
            "43\n",
            "47\n"
          ]
        }
      ]
    },
    {
      "cell_type": "code",
      "source": [
        "# Continue, skip current execution line 5\n",
        "for i in range(1,10):\n",
        "  if i ==5:\n",
        "    continue\n",
        "  print(i)\n"
      ],
      "metadata": {
        "colab": {
          "base_uri": "https://localhost:8080/"
        },
        "id": "YrnxILcDRk3r",
        "outputId": "df42bdca-666f-4e9d-c6a1-729265519f57"
      },
      "execution_count": 4,
      "outputs": [
        {
          "output_type": "stream",
          "name": "stdout",
          "text": [
            "1\n",
            "2\n",
            "3\n",
            "4\n",
            "6\n",
            "7\n",
            "8\n",
            "9\n"
          ]
        }
      ]
    },
    {
      "cell_type": "code",
      "source": [
        "# pass secure from error we use pass\n",
        "for i in range(1,10):\n",
        "  pass\n"
      ],
      "metadata": {
        "id": "haf58WHhU0bP"
      },
      "execution_count": 6,
      "outputs": []
    },
    {
      "cell_type": "code",
      "source": [
        "# Python string\n",
        "s ='hello'\n",
        "s=\"hello\"\n",
        "s='''hello'''\n",
        "s=\"\"\"hello\"\"\"\n",
        "s=str('hello')\n",
        "print(s)"
      ],
      "metadata": {
        "colab": {
          "base_uri": "https://localhost:8080/"
        },
        "id": "mV7g8JFoVLwc",
        "outputId": "1e7de2f2-cc5d-42f0-acaf-c4ffadeca518"
      },
      "execution_count": 8,
      "outputs": [
        {
          "output_type": "stream",
          "name": "stdout",
          "text": [
            "hello\n"
          ]
        }
      ]
    },
    {
      "cell_type": "code",
      "source": [
        "#Find the length of given string without using len() function\n",
        "\n",
        "s = input('Enter the string')\n",
        "\n",
        "counter=0\n",
        "\n",
        "for i in s:\n",
        "  counter+=1\n",
        "\n",
        "print('length of the string',counter)\n"
      ],
      "metadata": {
        "colab": {
          "base_uri": "https://localhost:8080/"
        },
        "id": "Nl5-LK1_m8JR",
        "outputId": "8e8c802e-7385-4c00-f9c9-539e68d22289"
      },
      "execution_count": 2,
      "outputs": [
        {
          "output_type": "stream",
          "name": "stdout",
          "text": [
            "Enter the stringabhijit is my husband\n",
            "length of the string 21\n"
          ]
        }
      ]
    },
    {
      "cell_type": "code",
      "source": [
        "# Extract username from a given email\n",
        "s = input('Enter the email')\n",
        "\n",
        "pos=s.index('@')\n",
        "print(s[0:pos])"
      ],
      "metadata": {
        "colab": {
          "base_uri": "https://localhost:8080/"
        },
        "id": "vBwIgnAGVO9S",
        "outputId": "39e80f04-d73f-4201-f9ea-320ec5cc4566"
      },
      "execution_count": 3,
      "outputs": [
        {
          "output_type": "stream",
          "name": "stdout",
          "text": [
            "Enter the emailhowalpranita485@gmail.com\n",
            "howalpranita485\n"
          ]
        }
      ]
    },
    {
      "cell_type": "code",
      "source": [
        "# Count the frequency of a particular character in a provided string\n",
        "\n",
        "s =input('enter the string')\n",
        "term=input('what would you like to search for ')\n",
        "\n",
        "counter =0\n",
        "\n",
        "for i in s:\n",
        "  if i==term:\n",
        "    counter+=1\n",
        "\n",
        "\n",
        "\n",
        "print('frequency of char',counter)"
      ],
      "metadata": {
        "colab": {
          "base_uri": "https://localhost:8080/"
        },
        "id": "gfmi_g6FGxcx",
        "outputId": "405696fa-7204-4aef-86db-fd27d7d29112"
      },
      "execution_count": 6,
      "outputs": [
        {
          "output_type": "stream",
          "name": "stdout",
          "text": [
            "enter the stringdata science is future nowdays\n",
            "what would you like to search for u\n",
            "frequency of char 2\n"
          ]
        }
      ]
    },
    {
      "cell_type": "code",
      "source": [
        "# Write a program which can remove a particular character from a string\n",
        "s= input('enter the string')\n",
        "term=input('What would you like to remove')\n",
        "result=''\n",
        "\n",
        "for i in s:\n",
        "  if i!=term:\n",
        "    result=result+i\n",
        "\n",
        "print(result)\n"
      ],
      "metadata": {
        "colab": {
          "base_uri": "https://localhost:8080/"
        },
        "id": "Qjrth_cdJgT4",
        "outputId": "bd806517-b89e-4827-9f2b-2a274d5ad4ba"
      },
      "execution_count": 8,
      "outputs": [
        {
          "output_type": "stream",
          "name": "stdout",
          "text": [
            "enter the stringtalk to me movie is very scary\n",
            "What would you like to removee\n",
            "talk to m movi is vry scary\n"
          ]
        }
      ]
    },
    {
      "cell_type": "code",
      "source": [
        "# Write a program that can check whether a given string is palindrom or not\n",
        "\n",
        "s = input('Enter the string')\n",
        "flag=True\n",
        "\n",
        "for i in range (0,len(s)//2):\n",
        "  if s[i]!=s[len(s)-i-1]:\n",
        "    flag=False\n",
        "    print('not a Palindrome')\n",
        "    break\n",
        "\n",
        "  if flag:\n",
        "    print('Palindrome')\n",
        "\n"
      ],
      "metadata": {
        "colab": {
          "base_uri": "https://localhost:8080/"
        },
        "id": "dVfnkwnjKlVn",
        "outputId": "fe6bd682-f9c0-417d-aa2f-8280398afc3f"
      },
      "execution_count": 12,
      "outputs": [
        {
          "output_type": "stream",
          "name": "stdout",
          "text": [
            "Enter the stringabba\n",
            "Palindrome\n",
            "Palindrome\n"
          ]
        }
      ]
    },
    {
      "cell_type": "code",
      "source": [
        "# Write a program to count the number of words in a string without split()\n",
        "\n",
        "s= input('enter the string')\n",
        "temp=''\n",
        "L=[]\n",
        "for i in s:\n",
        "  if i!=' ':\n",
        "    temp=temp+i\n",
        "  else:\n",
        "    L.append(temp)\n",
        "    temp=''\n",
        "L.append(temp)\n",
        "print(L)\n"
      ],
      "metadata": {
        "colab": {
          "base_uri": "https://localhost:8080/"
        },
        "id": "7eRbc3K6OzT3",
        "outputId": "6c2a9c90-e53d-4c78-e305-0e9c689da5c9"
      },
      "execution_count": 15,
      "outputs": [
        {
          "output_type": "stream",
          "name": "stdout",
          "text": [
            "enter the stringfeature engineering must required\n",
            "['feature', 'engineering', 'must', 'required']\n"
          ]
        }
      ]
    },
    {
      "cell_type": "code",
      "source": [
        "# Write a program  to convert a string to title case without using the title()\n",
        "\n",
        "s =input(\"Enter a string\")\n",
        "L=[]\n",
        "\n",
        "for i in s.split():\n",
        " L.append( i[0].upper()+i[1:].lower())\n",
        "\n",
        "print(\" \".join(L))\n",
        "\n",
        ""
      ],
      "metadata": {
        "colab": {
          "base_uri": "https://localhost:8080/"
        },
        "id": "tCjW5oOnRIyn",
        "outputId": "6f190276-753c-45df-f4fc-b5bd4a5c6a25"
      },
      "execution_count": 22,
      "outputs": [
        {
          "output_type": "stream",
          "name": "stdout",
          "text": [
            "Enter a stringhi how are you\n",
            "Hi How Are You\n"
          ]
        }
      ]
    },
    {
      "cell_type": "code",
      "source": [
        "# write a program that can convert an integer to string\n",
        "number = int(input('enter the number'))\n",
        "\n",
        "digits='0123456789'\n",
        "result=''\n",
        "while number!=0:\n",
        "  result=digits[number%10]+result\n",
        "  number =number//10\n",
        "\n",
        "print(result)\n",
        "print(type(result))"
      ],
      "metadata": {
        "colab": {
          "base_uri": "https://localhost:8080/"
        },
        "id": "jI7Og9SPn70t",
        "outputId": "513d9d59-ebcc-46ea-cce4-345f62401697"
      },
      "execution_count": 25,
      "outputs": [
        {
          "output_type": "stream",
          "name": "stdout",
          "text": [
            "enter the number234\n",
            "234\n",
            "<class 'str'>\n"
          ]
        }
      ]
    },
    {
      "cell_type": "code",
      "source": [],
      "metadata": {
        "id": "DO1zv_BiqgYa"
      },
      "execution_count": null,
      "outputs": []
    }
  ]
}